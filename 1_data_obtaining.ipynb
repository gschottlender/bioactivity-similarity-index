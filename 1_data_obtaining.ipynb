{
 "cells": [
  {
   "cell_type": "code",
   "execution_count": null,
   "id": "a92dc69a-8508-4299-a154-5a5dc84738e5",
   "metadata": {},
   "outputs": [],
   "source": [
    "# Import libraries\n",
    "\n",
    "import pandas as pd\n",
    "import sqlite3\n",
    "import numpy as np\n",
    "\n",
    "from rdkit.Chem import AllChem\n",
    "from rdkit.Chem import DataStructs\n",
    "from rdkit.Chem import Descriptors\n",
    "from rdkit.Chem import MolFromSmiles\n",
    "from rdkit import Chem\n",
    "import time\n",
    "\n",
    "import os\n",
    "\n",
    "import pickle\n",
    "import random\n",
    "\n",
    "from src.ligand_clustering_functions import get_ligand_scaffolds, generate_decoys_from_properties"
   ]
  },
  {
   "cell_type": "code",
   "execution_count": null,
   "id": "2f50e3e2-60fd-4392-89e3-34b845f49e09",
   "metadata": {},
   "outputs": [],
   "source": [
    "def get_results(query,chembl_db):\n",
    "    \"\"\"Obtains data from ChEMBL db\"\"\"\n",
    "    #chembl_db = '/home/gustavo/disco_2/Trabajos_Bioinfo_3/chembl_33/chembl_33.db'\n",
    "    connection = sqlite3.connect(chembl_db)\n",
    "    cursor = connection.cursor()\n",
    "    \n",
    "    cursor.execute(query)\n",
    "    result = cursor.fetchall()\n",
    "    cursor.close()\n",
    "    connection.close()\n",
    "\n",
    "    return result\n",
    "\n",
    "def generate_properties_csv(molecule_dict):\n",
    "    \"\"\"Generate a CSV file with the physicochemical properties of the molecules in the dictionary.\"\"\"\n",
    "    rows = []\n",
    "    for mol_id, smiles in molecule_dict.items():\n",
    "        mol = Chem.MolFromSmiles(smiles)\n",
    "        if mol:\n",
    "            properties = {\n",
    "                'compound_id': mol_id,\n",
    "                #'smiles': smiles,\n",
    "                'mw': Descriptors.MolWt(mol),\n",
    "                'logP': Descriptors.MolLogP(mol),\n",
    "                'rot_bonds': Descriptors.NumRotatableBonds(mol),\n",
    "                'h_acceptors': Descriptors.NumHAcceptors(mol),\n",
    "                'h_donors': Descriptors.NumHDonors(mol),\n",
    "                'charge': Chem.rdmolops.GetFormalCharge(mol)\n",
    "            }\n",
    "            rows.append(properties)\n",
    "    df = pd.DataFrame(rows)\n",
    "    df.set_index('compound_id', inplace=True)\n",
    "    #df.to_csv(output_file)\n",
    "    return df"
   ]
  },
  {
   "cell_type": "code",
   "execution_count": null,
   "id": "76e56fec-27b7-4c5c-ab53-ab61153a0532",
   "metadata": {},
   "outputs": [],
   "source": [
    "# SQL queries to obtain data from ChEMBL\n",
    "\n",
    "# Obtain a table of protein–ligand pairs with the associated pChEMBL (affinity) value.\n",
    "query_prot_ligs = '''select distinct molecule_dictionary.chembl_id as ligand_id,\n",
    "component_sequences.accession as uniprot_id, activities.pchembl_value as pchembl, activities.activity_comment as comment,\n",
    "domains.source_domain_id as pfam\n",
    "            from activities join assays on activities.assay_id = assays.assay_id\n",
    "            join molecule_dictionary on activities.molregno = molecule_dictionary.molregno \n",
    "\t\t\tjoin compound_structures on molecule_dictionary.molregno = compound_structures.molregno\n",
    "            join target_dictionary on assays.tid = target_dictionary.tid\n",
    "\t\t\tjoin target_components on target_dictionary.tid = target_components.tid\n",
    "\t\t\tjoin component_sequences on target_components.component_id = component_sequences.component_id\n",
    "            join site_components on target_components.component_id = site_components.component_id\n",
    "\t\t\tjoin domains on site_components.domain_id = domains.domain_id\n",
    "            where assays.assay_type = 'B' and\n",
    "            target_dictionary.target_type = \"SINGLE PROTEIN\"'''\n",
    "\n",
    "# Obtain a table of ligand–SMILES pairs.\n",
    "query_ligs_smiles = '''select distinct molecule_dictionary.chembl_id as ligand_id,\n",
    "compound_structures.canonical_smiles as smiles\n",
    "            from activities join assays on activities.assay_id = assays.assay_id\n",
    "            join molecule_dictionary on activities.molregno = molecule_dictionary.molregno \n",
    "\t\t\tjoin compound_structures on molecule_dictionary.molregno = compound_structures.molregno\n",
    "            join target_dictionary on assays.tid = target_dictionary.tid\n",
    "\t\t\tjoin target_components on target_dictionary.tid = target_components.tid\n",
    "\t\t\tjoin component_sequences on target_components.component_id = component_sequences.component_id\n",
    "            join site_components on target_components.component_id = site_components.component_id\n",
    "\t\t\tjoin domains on site_components.domain_id = domains.domain_id\n",
    "            where assays.assay_type = 'B' and\n",
    "            target_dictionary.target_type = \"SINGLE PROTEIN\"'''"
   ]
  },
  {
   "cell_type": "code",
   "execution_count": null,
   "id": "7d6ef8a2-0aa6-4900-b71c-638b08667c5a",
   "metadata": {},
   "outputs": [],
   "source": [
    "data_dir = 'data'\n",
    "os.makedirs(data_dir, exist_ok=True)"
   ]
  },
  {
   "cell_type": "markdown",
   "id": "7dd7dfb1-fbb4-4faa-b6df-436e423ca31c",
   "metadata": {},
   "source": [
    "## Obtaining bioactive and inactive compounds from ChEMBL"
   ]
  },
  {
   "cell_type": "code",
   "execution_count": null,
   "id": "27635c03-90c5-4031-bd5e-957bf8e55ac2",
   "metadata": {},
   "outputs": [],
   "source": [
    "# Set directory of ChEMBL db (in sqlite format)\n",
    "chembl_db = './chembl_33.db'"
   ]
  },
  {
   "cell_type": "code",
   "execution_count": null,
   "id": "d517d6d0-8344-4e90-a7d0-fe573aef6ea6",
   "metadata": {},
   "outputs": [],
   "source": [
    "# Obtain ligand-target pairs, with pchembl value, and convert to a table with associated metadata\n",
    "prot_ligs = get_results(query_prot_ligs,chembl_db)\n",
    "prot_ligs = pd.DataFrame(prot_ligs,columns=['lig','prot','pchembl','comment','pfam'])"
   ]
  },
  {
   "cell_type": "code",
   "execution_count": null,
   "id": "e8a4d1e3-5866-46cc-b5e2-391bead8e351",
   "metadata": {},
   "outputs": [],
   "source": [
    "# Proteins without an associated pChEMBL value but labeled as negatives were included by assigning them a pChEMBL value of 3, thereby establishing a minimum affinity threshold.\n",
    "prot_ligs.loc[(prot_ligs['comment'].isin(['Not Active','inactive','No significant effect','No Activity','No binding'])) & (prot_ligs['pchembl'].isna()),'pchembl'] = 3\n",
    "# Minimum pChEMBL values are limited to 3.\n",
    "prot_ligs.loc[(prot_ligs['pchembl'] < 3),'pchembl'] = 3\n",
    "# Maximum pChEMBL values are limited to 10.\n",
    "prot_ligs.loc[(prot_ligs['pchembl'] > 10),'pchembl'] = 10"
   ]
  },
  {
   "cell_type": "code",
   "execution_count": null,
   "id": "944ab8ea-4890-40a0-a885-7fb9c093f6a9",
   "metadata": {},
   "outputs": [],
   "source": [
    "# Tag positive or negative bioactivity\n",
    "positive_threshold = 6.5\n",
    "negative_threshold = 4.5\n",
    "prot_ligs['activity'] = prot_ligs['pchembl'].apply(lambda x: 1 if x > positive_threshold else (0 if x < negative_threshold else np.nan))\n",
    "\n",
    "# Drop undefined activity pairs\n",
    "prot_ligs = prot_ligs.dropna(subset=['activity'])"
   ]
  },
  {
   "cell_type": "code",
   "execution_count": null,
   "id": "8d729c33-77a2-49d2-8b12-41f7d8f091e8",
   "metadata": {},
   "outputs": [],
   "source": [
    "# Save dataset:\n",
    "prot_ligs.to_csv(f'{data_dir}/prot_ligs_db.csv',index=False)"
   ]
  },
  {
   "cell_type": "markdown",
   "id": "b06bdd95-a295-44e6-ade7-19a6ef9625c6",
   "metadata": {},
   "source": [
    "## Obtaining compound databases"
   ]
  },
  {
   "cell_type": "code",
   "execution_count": null,
   "id": "42e1b015-89b6-41d2-8a8c-bc7b1a2354dd",
   "metadata": {},
   "outputs": [],
   "source": [
    "# Obtain compound-SMILES dictionary\n",
    "ligs_smiles = get_results(query_ligs_smiles,chembl_db)\n",
    "ligs_smiles = {l[0]:l[1] for l in ligs_smiles}"
   ]
  },
  {
   "cell_type": "code",
   "execution_count": null,
   "id": "7714ad08-1076-4e66-89be-7a5a99eb879d",
   "metadata": {},
   "outputs": [],
   "source": [
    "# Save compound-SMILES dictionary\n",
    "with open(f'{data_dir}/comps_smiles.pkl','wb') as f:\n",
    "    pickle.dump(ligs_smiles,f)"
   ]
  },
  {
   "cell_type": "code",
   "execution_count": null,
   "id": "800bc675-55a2-44f3-ae5f-fa2271ea2db1",
   "metadata": {},
   "outputs": [],
   "source": [
    "# Generate precalculated database of ligands and fingerprints\n",
    "fp_size = 256\n",
    "ligs_fps = {c:AllChem.GetMorganFingerprintAsBitVect(MolFromSmiles(ligs_smiles[c]),2,fp_size) for c in ligs_smiles}"
   ]
  },
  {
   "cell_type": "code",
   "execution_count": null,
   "id": "731bcc7f-fb91-4375-9c62-b54e04d83ad4",
   "metadata": {},
   "outputs": [],
   "source": [
    "# Save database of compounds and fps\n",
    "with open(f'{data_dir}/comps_fps.pkl','wb') as f:\n",
    "    pickle.dump(ligs_fps,f)"
   ]
  },
  {
   "cell_type": "code",
   "execution_count": null,
   "id": "a05542f4-f318-46ab-93f8-ff84c7762f58",
   "metadata": {},
   "outputs": [],
   "source": [
    "# Generate database of compounds with required properties to generate decoys\n",
    "ligs_props_decoys = generate_properties_csv(ligs_smiles)"
   ]
  },
  {
   "cell_type": "code",
   "execution_count": null,
   "id": "0c4c64d2-cafe-42ad-9b70-d97d110785c8",
   "metadata": {},
   "outputs": [],
   "source": [
    "# Save database of compound properties\n",
    "ligs_props_decoys.to_csv(f'{data_dir}/ligs_props.csv')"
   ]
  },
  {
   "cell_type": "code",
   "execution_count": null,
   "id": "95ecf7bd-00bb-4640-9d4b-1c06ebcf9c6d",
   "metadata": {},
   "outputs": [],
   "source": [
    "# Precalculate Bemis-Murcko scaffolds for all ChEMBL ligands\n",
    "scaffolds = get_ligand_scaffolds(ligs_smiles)\n",
    "with open(f'{data_dir}/ligs_scaffolds.pkl','wb') as f:\n",
    "    pickle.dump(scaffolds,f)"
   ]
  },
  {
   "cell_type": "markdown",
   "id": "be190cb1-1189-4f5c-8ad4-d8c7f381144d",
   "metadata": {},
   "source": [
    "## Generate decoys for each active ligand from ChEMBL"
   ]
  },
  {
   "cell_type": "code",
   "execution_count": null,
   "id": "0426b111-1063-421d-aa2a-34d91af2078b",
   "metadata": {},
   "outputs": [],
   "source": [
    "# Get active ligands\n",
    "actives = list(prot_ligs[prot_ligs['activity']==1]['lig'].unique())"
   ]
  },
  {
   "cell_type": "code",
   "execution_count": null,
   "id": "f26bc182-6f87-4a58-b9d6-6feb922a8bdb",
   "metadata": {},
   "outputs": [],
   "source": [
    "# Select Tanimoto threshold to retrieve decoys\n",
    "decoy_threshold = 0.3\n",
    "\n",
    "# Generate decoys sets for each active\n",
    "i = 0\n",
    "decoys_d = {}\n",
    "for l in actives:\n",
    "    decoys = generate_decoys_from_properties(l, ligs_props_decoys, ligs_fps, scaffolds,threshold=decoy_threshold)\n",
    "    decoys_d[l] = decoys\n",
    "    i += 1\n",
    "    if i % 10000 == 0:\n",
    "        print(f\"{i} processed compounds\")"
   ]
  },
  {
   "cell_type": "code",
   "execution_count": null,
   "id": "848cfa75-5d9c-4b88-8e20-e6b09c536d1b",
   "metadata": {},
   "outputs": [],
   "source": [
    "# Save compound and respective decoys database\n",
    "with open(f'{data_dir}/decoys_dict.pkl','wb') as f:\n",
    "    pickle.dump(decoys_d,f)\n"
   ]
  },
  {
   "cell_type": "code",
   "execution_count": null,
   "id": "1971449d-5d00-48e7-a32b-429d4f8068fb",
   "metadata": {},
   "outputs": [],
   "source": []
  }
 ],
 "metadata": {
  "kernelspec": {
   "display_name": "Python [conda env:bsi_env]",
   "language": "python",
   "name": "conda-env-bsi_env-py"
  },
  "language_info": {
   "codemirror_mode": {
    "name": "ipython",
    "version": 3
   },
   "file_extension": ".py",
   "mimetype": "text/x-python",
   "name": "python",
   "nbconvert_exporter": "python",
   "pygments_lexer": "ipython3",
   "version": "3.9.23"
  }
 },
 "nbformat": 4,
 "nbformat_minor": 5
}
