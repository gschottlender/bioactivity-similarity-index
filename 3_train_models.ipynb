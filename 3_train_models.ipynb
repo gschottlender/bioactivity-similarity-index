{
 "cells": [
  {
   "cell_type": "code",
   "execution_count": 1,
   "id": "88c80dbc-a5a3-4598-ab45-396bc69e28e1",
   "metadata": {},
   "outputs": [],
   "source": [
    "# Import libraries\n",
    "import pandas as pd\n",
    "import pickle\n",
    "import numpy as np\n",
    "\n",
    "from src.model_training_functions import train_model_on_chunks, fine_tune_model_on_chunks, convert_compound_pairs, NeuralNetworkModel\n",
    "from src.model_training_functions import evaluate_test_data, prepare_and_evaluate_pairs\n",
    "\n",
    "from sklearn.metrics import roc_curve, auc, precision_recall_curve, average_precision_score\n",
    "\n",
    "import torch\n",
    "import os"
   ]
  },
  {
   "cell_type": "code",
   "execution_count": 2,
   "id": "6d84a6dd-4cc8-4e49-bb58-e5ab624e3762",
   "metadata": {},
   "outputs": [],
   "source": [
    "def get_roc_auc(test_data, pred_col, binary_sim_col='y'):\n",
    "    \"\"\"\n",
    "    Compute ROC curves and AUC values for the test set.\n",
    "\n",
    "    Parameters\n",
    "    ----------\n",
    "    test_data : pd.DataFrame\n",
    "        DataFrame containing test results, including ground truth and predicted scores.\n",
    "    pred_col : str\n",
    "        Column name for the model's predicted values.\n",
    "    binary_sim_col : str, optional\n",
    "        Column name for the binary similarity label (default: 'y').\n",
    "\n",
    "    Returns\n",
    "    -------\n",
    "    roc_auc_pred : float\n",
    "        Area under the ROC curve for the model's predictions.\n",
    "    \"\"\"\n",
    "\n",
    "    # Compute ROC curve and AUC for model predictions\n",
    "    fpr_pred, tpr_pred, _ = roc_curve(test_data[binary_sim_col], test_data[pred_col])\n",
    "    roc_auc_pred = auc(fpr_pred, tpr_pred)\n",
    "\n",
    "    return roc_auc_pred\n",
    "\n",
    "def get_pr_auc(test_data, pred_col, binary_sim_col='y'):\n",
    "    \"\"\"\n",
    "    Compute the area under the Precision-Recall curve (PR AUC) for the test set.\n",
    "\n",
    "    Parameters\n",
    "    ----------\n",
    "    test_data : pd.DataFrame\n",
    "        DataFrame containing test results, including ground truth and predicted scores.\n",
    "    pred_col : str\n",
    "        Column name for the model's predicted values.\n",
    "    binary_sim_col : str, optional\n",
    "        Column name for the binary similarity label (default: 'y').\n",
    "\n",
    "    Returns\n",
    "    -------\n",
    "    pr_auc : float\n",
    "        Area under the Precision-Recall curve.\n",
    "    precision : np.ndarray\n",
    "        Precision values for the curve.\n",
    "    recall : np.ndarray\n",
    "        Recall values for the curve.\n",
    "    \"\"\"\n",
    "    # Compute precision-recall curve\n",
    "    precision, recall, _ = precision_recall_curve(test_data[binary_sim_col], test_data[pred_col])\n",
    "    # Compute the area under the curve (AUC)\n",
    "    pr_auc = auc(recall, precision)\n",
    "\n",
    "    return pr_auc"
   ]
  },
  {
   "cell_type": "code",
   "execution_count": 3,
   "id": "bdcf26ec-3866-40af-85ba-a81598b8c32c",
   "metadata": {},
   "outputs": [],
   "source": [
    "# Load Fingerprints database\n",
    "data_dir = 'data'\n",
    "\n",
    "# Convert fingerprints to np.float32 format \n",
    "if not 'comps_fps_np.pkl' in os.listdir(data_dir):    \n",
    "    with open(f'{data_dir}/comps_fps.pkl','rb') as f:\n",
    "        db_ligs = pickle.load(f)\n",
    "    \n",
    "    db_ligs = {l:np.array(db_ligs[l], dtype=np.float32) for l in db_ligs}\n",
    "    with open(f'{data_dir}/comps_fps_np.pkl','wb') as f:\n",
    "        pickle.dump(db_ligs,f)\n",
    "else:\n",
    "    with open(f'{data_dir}/comps_fps_np.pkl','rb') as f:\n",
    "        db_ligs = pickle.load(f)"
   ]
  },
  {
   "cell_type": "markdown",
   "id": "ac4d3cef-d047-43e7-b21d-c7acdc189f34",
   "metadata": {},
   "source": [
    "## Train model"
   ]
  },
  {
   "cell_type": "code",
   "execution_count": 4,
   "id": "ad75b5ec-86b0-4b91-9a53-01bc367461f2",
   "metadata": {},
   "outputs": [
    {
     "name": "stdout",
     "output_type": "stream",
     "text": [
      "\n",
      "=== Epoch 1/10 ===\n",
      " - chunk_7.csv | Train Loss: 0.6095, Val Loss: 0.5567\n",
      " - chunk_8.csv | Train Loss: 0.5250, Val Loss: 0.4932\n",
      " - chunk_10.csv | Train Loss: 0.5124, Val Loss: 0.4986\n",
      " - chunk_3.csv | Train Loss: 0.5031, Val Loss: 0.5071\n",
      " - chunk_4.csv | Train Loss: 0.4948, Val Loss: 0.5190\n",
      " - chunk_5.csv | Train Loss: 0.4825, Val Loss: 0.4684\n",
      " - chunk_9.csv | Train Loss: 0.4712, Val Loss: 0.4376\n",
      " - chunk_6.csv | Train Loss: 0.4578, Val Loss: 0.4510\n",
      " - chunk_1.csv | Train Loss: 0.4429, Val Loss: 0.4120\n",
      " - chunk_2.csv | Train Loss: 0.4232, Val Loss: 0.3881\n",
      "=== End of epoch 1/10 | Avg Training Loss: 0.4922 ===\n",
      "\n",
      "=== Epoch 2/10 ===\n",
      " - chunk_1.csv | Train Loss: 0.4180, Val Loss: 0.3823\n",
      " - chunk_5.csv | Train Loss: 0.4038, Val Loss: 0.3944\n",
      " - chunk_10.csv | Train Loss: 0.3936, Val Loss: 0.3725\n",
      " - chunk_3.csv | Train Loss: 0.3844, Val Loss: 0.3669\n",
      " - chunk_8.csv | Train Loss: 0.3761, Val Loss: 0.3511\n",
      " - chunk_7.csv | Train Loss: 0.3717, Val Loss: 0.3629\n",
      " - chunk_4.csv | Train Loss: 0.3674, Val Loss: 0.3629\n",
      " - chunk_2.csv | Train Loss: 0.3601, Val Loss: 0.3296\n",
      " - chunk_6.csv | Train Loss: 0.3575, Val Loss: 0.3438\n",
      " - chunk_9.csv | Train Loss: 0.3436, Val Loss: 0.3359\n",
      "=== End of epoch 2/10 | Avg Training Loss: 0.3776 ===\n",
      "\n",
      "=== Epoch 3/10 ===\n",
      " - chunk_8.csv | Train Loss: 0.3423, Val Loss: 0.3153\n",
      " - chunk_9.csv | Train Loss: 0.3300, Val Loss: 0.3282\n",
      " - chunk_5.csv | Train Loss: 0.3408, Val Loss: 0.3247\n",
      " - chunk_2.csv | Train Loss: 0.3347, Val Loss: 0.3068\n",
      " - chunk_6.csv | Train Loss: 0.3307, Val Loss: 0.3165\n",
      " - chunk_4.csv | Train Loss: 0.3260, Val Loss: 0.3109\n",
      " - chunk_10.csv | Train Loss: 0.3160, Val Loss: 0.2757\n",
      " - chunk_1.csv | Train Loss: 0.3246, Val Loss: 0.2675\n",
      " - chunk_7.csv | Train Loss: 0.3096, Val Loss: 0.2910\n",
      " - chunk_3.csv | Train Loss: 0.3071, Val Loss: 0.2814\n",
      "=== End of epoch 3/10 | Avg Training Loss: 0.3262 ===\n",
      "\n",
      "=== Epoch 4/10 ===\n",
      " - chunk_1.csv | Train Loss: 0.3114, Val Loss: 0.2560\n",
      " - chunk_4.csv | Train Loss: 0.3021, Val Loss: 0.2862\n",
      " - chunk_7.csv | Train Loss: 0.2952, Val Loss: 0.2728\n",
      " - chunk_6.csv | Train Loss: 0.2938, Val Loss: 0.2745\n",
      " - chunk_8.csv | Train Loss: 0.2888, Val Loss: 0.2552\n",
      " - chunk_5.csv | Train Loss: 0.2851, Val Loss: 0.2657\n",
      " - chunk_2.csv | Train Loss: 0.2830, Val Loss: 0.2563\n",
      " - chunk_3.csv | Train Loss: 0.2773, Val Loss: 0.2507\n",
      " - chunk_10.csv | Train Loss: 0.2682, Val Loss: 0.2170\n",
      " - chunk_9.csv | Train Loss: 0.2635, Val Loss: 0.2632\n",
      "=== End of epoch 4/10 | Avg Training Loss: 0.2868 ===\n",
      "\n",
      "=== Epoch 5/10 ===\n",
      " - chunk_9.csv | Train Loss: 0.2561, Val Loss: 0.2617\n",
      " - chunk_8.csv | Train Loss: 0.2598, Val Loss: 0.2242\n",
      " - chunk_7.csv | Train Loss: 0.2588, Val Loss: 0.2326\n",
      " - chunk_2.csv | Train Loss: 0.2540, Val Loss: 0.2363\n",
      " - chunk_6.csv | Train Loss: 0.2557, Val Loss: 0.2255\n",
      " - chunk_5.csv | Train Loss: 0.2530, Val Loss: 0.2247\n",
      " - chunk_3.csv | Train Loss: 0.2435, Val Loss: 0.2183\n",
      " - chunk_1.csv | Train Loss: 0.2434, Val Loss: 0.1869\n",
      " - chunk_4.csv | Train Loss: 0.2407, Val Loss: 0.2151\n",
      " - chunk_10.csv | Train Loss: 0.2304, Val Loss: 0.1758\n",
      "=== End of epoch 5/10 | Avg Training Loss: 0.2495 ===\n",
      "\n",
      "=== Epoch 6/10 ===\n",
      " - chunk_6.csv | Train Loss: 0.2331, Val Loss: 0.1995\n",
      " - chunk_5.csv | Train Loss: 0.2307, Val Loss: 0.1993\n",
      " - chunk_8.csv | Train Loss: 0.2199, Val Loss: 0.1729\n",
      " - chunk_10.csv | Train Loss: 0.2168, Val Loss: 0.1639\n",
      " - chunk_9.csv | Train Loss: 0.2106, Val Loss: 0.2082\n",
      " - chunk_4.csv | Train Loss: 0.2162, Val Loss: 0.1904\n",
      " - chunk_1.csv | Train Loss: 0.2146, Val Loss: 0.1533\n",
      " - chunk_3.csv | Train Loss: 0.2058, Val Loss: 0.1736\n",
      " - chunk_7.csv | Train Loss: 0.1997, Val Loss: 0.1819\n",
      " - chunk_2.csv | Train Loss: 0.2007, Val Loss: 0.1674\n",
      "=== End of epoch 6/10 | Avg Training Loss: 0.2148 ===\n",
      "\n",
      "=== Epoch 7/10 ===\n",
      " - chunk_1.csv | Train Loss: 0.1957, Val Loss: 0.1410\n",
      " - chunk_9.csv | Train Loss: 0.1879, Val Loss: 0.1809\n",
      " - chunk_8.csv | Train Loss: 0.1918, Val Loss: 0.1381\n",
      " - chunk_4.csv | Train Loss: 0.1875, Val Loss: 0.1676\n",
      " - chunk_3.csv | Train Loss: 0.1843, Val Loss: 0.1506\n",
      " - chunk_5.csv | Train Loss: 0.1879, Val Loss: 0.1499\n",
      " - chunk_6.csv | Train Loss: 0.1806, Val Loss: 0.1417\n",
      " - chunk_7.csv | Train Loss: 0.1748, Val Loss: 0.1637\n",
      " - chunk_10.csv | Train Loss: 0.1667, Val Loss: 0.1205\n",
      " - chunk_2.csv | Train Loss: 0.1728, Val Loss: 0.1432\n",
      "=== End of epoch 7/10 | Avg Training Loss: 0.1830 ===\n",
      "\n",
      "=== Epoch 8/10 ===\n",
      " - chunk_9.csv | Train Loss: 0.1634, Val Loss: 0.1586\n",
      " - chunk_4.csv | Train Loss: 0.1630, Val Loss: 0.1473\n",
      " - chunk_2.csv | Train Loss: 0.1639, Val Loss: 0.1295\n",
      " - chunk_5.csv | Train Loss: 0.1683, Val Loss: 0.1297\n",
      " - chunk_6.csv | Train Loss: 0.1601, Val Loss: 0.1217\n",
      " - chunk_10.csv | Train Loss: 0.1538, Val Loss: 0.1058\n",
      " - chunk_7.csv | Train Loss: 0.1500, Val Loss: 0.1453\n",
      " - chunk_8.csv | Train Loss: 0.1556, Val Loss: 0.0985\n",
      " - chunk_3.csv | Train Loss: 0.1432, Val Loss: 0.1124\n",
      " - chunk_1.csv | Train Loss: 0.1466, Val Loss: 0.0976\n",
      "=== End of epoch 8/10 | Avg Training Loss: 0.1568 ===\n",
      "\n",
      "=== Epoch 9/10 ===\n",
      " - chunk_8.csv | Train Loss: 0.1458, Val Loss: 0.0904\n",
      " - chunk_7.csv | Train Loss: 0.1399, Val Loss: 0.1374\n",
      " - chunk_2.csv | Train Loss: 0.1441, Val Loss: 0.1116\n",
      " - chunk_5.csv | Train Loss: 0.1416, Val Loss: 0.1124\n",
      " - chunk_1.csv | Train Loss: 0.1384, Val Loss: 0.0889\n",
      " - chunk_3.csv | Train Loss: 0.1315, Val Loss: 0.1012\n",
      " - chunk_10.csv | Train Loss: 0.1277, Val Loss: 0.0888\n",
      " - chunk_6.csv | Train Loss: 0.1337, Val Loss: 0.0935\n",
      " - chunk_4.csv | Train Loss: 0.1309, Val Loss: 0.1143\n",
      " - chunk_9.csv | Train Loss: 0.1264, Val Loss: 0.1162\n",
      "=== End of epoch 9/10 | Avg Training Loss: 0.1360 ===\n",
      "\n",
      "=== Epoch 10/10 ===\n",
      " - chunk_10.csv | Train Loss: 0.1180, Val Loss: 0.0853\n",
      " - chunk_5.csv | Train Loss: 0.1271, Val Loss: 0.1026\n",
      " - chunk_9.csv | Train Loss: 0.1223, Val Loss: 0.1157\n",
      " - chunk_8.csv | Train Loss: 0.1215, Val Loss: 0.0731\n",
      " - chunk_6.csv | Train Loss: 0.1210, Val Loss: 0.0836\n",
      " - chunk_4.csv | Train Loss: 0.1181, Val Loss: 0.1013\n",
      " - chunk_7.csv | Train Loss: 0.1180, Val Loss: 0.1256\n",
      " - chunk_2.csv | Train Loss: 0.1173, Val Loss: 0.0874\n",
      " - chunk_3.csv | Train Loss: 0.1142, Val Loss: 0.0841\n",
      " - chunk_1.csv | Train Loss: 0.1113, Val Loss: 0.0791\n",
      "=== End of epoch 10/10 | Avg Training Loss: 0.1189 ===\n"
     ]
    }
   ],
   "source": [
    "train_dir = 'train_datasets'\n",
    "model = train_model_on_chunks(\n",
    "        train_dir,\n",
    "        db_ligs,              \n",
    "        hidden_layers=[512, 256, 128, 64], \n",
    "        dropout_prob=0.3, \n",
    "        n_epochs=10)\n",
    "\n",
    "torch.save(model.state_dict(), f'model.pth')"
   ]
  },
  {
   "cell_type": "markdown",
   "id": "a13ccff6-86df-426a-bcb1-41451537f83d",
   "metadata": {},
   "source": [
    "## Evaluation on test datasets"
   ]
  },
  {
   "cell_type": "code",
   "execution_count": 5,
   "id": "bb5c7d38-dbb9-45c6-ad5a-3765f0e0afef",
   "metadata": {},
   "outputs": [],
   "source": [
    "def evaluate_test_data(model,test_data,db_ligs):\n",
    "    model.eval()\n",
    "    X_test,y_test = convert_compound_pairs(test_data,db_ligs)\n",
    "    X_test = torch.tensor(X_test, dtype=torch.float32)\n",
    "    device = next(model.parameters()).device\n",
    "    X_test = X_test.to(device)\n",
    "    with torch.no_grad():\n",
    "        preds = model(X_test).flatten().cpu().numpy()\n",
    "    return preds"
   ]
  },
  {
   "cell_type": "code",
   "execution_count": 6,
   "id": "0cd4ca0b-1004-4c04-b85f-0b730ed52d8b",
   "metadata": {},
   "outputs": [
    {
     "name": "stderr",
     "output_type": "stream",
     "text": [
      "/tmp/ipykernel_132607/2442217879.py:4: FutureWarning: You are using `torch.load` with `weights_only=False` (the current default value), which uses the default pickle module implicitly. It is possible to construct malicious pickle data which will execute arbitrary code during unpickling (See https://github.com/pytorch/pytorch/blob/main/SECURITY.md#untrusted-models for more details). In a future release, the default value for `weights_only` will be flipped to `True`. This limits the functions that could be executed during unpickling. Arbitrary objects will no longer be allowed to be loaded via this mode unless they are explicitly allowlisted by the user via `torch.serialization.add_safe_globals`. We recommend you start setting `weights_only=True` for any use case where you don't have full control of the loaded file. Please open an issue on GitHub for any issues related to this experimental feature.\n",
      "  model.load_state_dict(torch.load('model.pth'))\n"
     ]
    },
    {
     "data": {
      "text/plain": [
       "<All keys matched successfully>"
      ]
     },
     "execution_count": 6,
     "metadata": {},
     "output_type": "execute_result"
    }
   ],
   "source": [
    "# Load model (same parameters as the trained model)\n",
    "input_size = len(next(iter(db_ligs.values())))\n",
    "model = NeuralNetworkModel(input_size=input_size,hidden_layers=[512,256,128,64],output_size=1,dropout_prob=0.3)\n",
    "model.load_state_dict(torch.load('model.pth'))"
   ]
  },
  {
   "cell_type": "code",
   "execution_count": 7,
   "id": "72975531-118a-474b-8c39-8c8a9e65a11f",
   "metadata": {},
   "outputs": [],
   "source": [
    "# Load test data\n",
    "test_data = pd.read_csv('./test_datasets/test_pairs.csv')"
   ]
  },
  {
   "cell_type": "code",
   "execution_count": 8,
   "id": "337191b4-02b1-48d4-b0ee-8f40e8f2c707",
   "metadata": {},
   "outputs": [],
   "source": [
    "# Make predictions\n",
    "preds = evaluate_test_data(model,test_data,db_ligs)\n",
    "test_data['pred'] = preds"
   ]
  },
  {
   "cell_type": "code",
   "execution_count": 9,
   "id": "f6340b66-f91e-4766-87fb-455bad2a4c2d",
   "metadata": {},
   "outputs": [
    {
     "data": {
      "text/html": [
       "<div>\n",
       "<style scoped>\n",
       "    .dataframe tbody tr th:only-of-type {\n",
       "        vertical-align: middle;\n",
       "    }\n",
       "\n",
       "    .dataframe tbody tr th {\n",
       "        vertical-align: top;\n",
       "    }\n",
       "\n",
       "    .dataframe thead th {\n",
       "        text-align: right;\n",
       "    }\n",
       "</style>\n",
       "<table border=\"1\" class=\"dataframe\">\n",
       "  <thead>\n",
       "    <tr style=\"text-align: right;\">\n",
       "      <th></th>\n",
       "      <th>prot</th>\n",
       "      <th>ROC AUC</th>\n",
       "      <th>PR AUC</th>\n",
       "    </tr>\n",
       "  </thead>\n",
       "  <tbody>\n",
       "    <tr>\n",
       "      <th>0</th>\n",
       "      <td>P08254</td>\n",
       "      <td>0.884375</td>\n",
       "      <td>0.665815</td>\n",
       "    </tr>\n",
       "  </tbody>\n",
       "</table>\n",
       "</div>"
      ],
      "text/plain": [
       "     prot   ROC AUC    PR AUC\n",
       "0  P08254  0.884375  0.665815"
      ]
     },
     "metadata": {},
     "output_type": "display_data"
    }
   ],
   "source": [
    "# Compute ROC AUC and PR AUC per protein and collect results in a DataFrame\n",
    "\n",
    "results = [\n",
    "    {\n",
    "        \"prot\": prot,\n",
    "        \"ROC AUC\": get_roc_auc(data_prot := test_data[test_data[\"prot\"] == prot], \"pred\"),\n",
    "        \"PR AUC\": get_pr_auc(data_prot, \"pred\")\n",
    "    }\n",
    "    for prot in test_data[\"prot\"].unique()\n",
    "]\n",
    "\n",
    "test_results = pd.DataFrame(results)\n",
    "\n",
    "# Show test results\n",
    "display(test_results)"
   ]
  },
  {
   "cell_type": "markdown",
   "id": "0190b6dc-adb2-442f-b69e-fd979b7a59fa",
   "metadata": {},
   "source": [
    "## Example of fine tuning"
   ]
  },
  {
   "cell_type": "code",
   "execution_count": null,
   "id": "d546a9c6-86ee-4a28-8fbc-e83611a3371e",
   "metadata": {},
   "outputs": [],
   "source": [
    "# Load model\n",
    "input_size = len(next(iter(db_ligs.values())))\n",
    "model = NeuralNetworkModel(input_size=input_size,hidden_layers=[512,256,128,64],output_size=1,dropout_prob=0.3)\n",
    "model.load_state_dict(torch.load('model.pth'))"
   ]
  },
  {
   "cell_type": "code",
   "execution_count": null,
   "id": "e16a88a9-1958-4d01-9165-5b61cf23d24e",
   "metadata": {},
   "outputs": [],
   "source": [
    "# Fine tune model (in this example, using the test data)\n",
    "ft_train_dir = './test_datasets/'\n",
    "\n",
    "ft_model = fine_tune_model_on_chunks(\n",
    "    ft_train_dir,\n",
    "    db_ligs,                     # fingerprint dictionary used by convert_compound_pairs\n",
    "    model,               # path to .pt file or an nn.Module instance\n",
    "    n_epochs=5\n",
    ")\n",
    "\n",
    "# To save the model\n",
    "torch.save(ft_model.state_dict(), f'ft_model.pth')"
   ]
  },
  {
   "cell_type": "markdown",
   "id": "651f5821-4109-496e-8649-24bd0d4e7029",
   "metadata": {},
   "source": [
    "## Evaluation on new data"
   ]
  },
  {
   "cell_type": "code",
   "execution_count": null,
   "id": "b1b92867-d790-467a-be9d-817644e4b9a0",
   "metadata": {},
   "outputs": [],
   "source": [
    "# Load pairs of compounds (in this example, two lists of SMILES, one for each compound from each pair)\n",
    "compound_list_1 = ['CCCO','O=C(c1ccc(Oc2ccccc2)cc1)N1CCN(c2ncccn2)CC1','CC(C)Nc1ncnc(SC#N)c1[N+](=O)[O-]']\n",
    "compound_list_2 = ['NCCCN(Cc1nn2ccc(Cl)c2c(=O)n1Cc1ccccc1)C(=O)c1ccc(Cl)cc1','CCCCOc1ccccc1C[C@H]1COC(=O)[C@@H]1Cc1ccc(Cl)c(Cl)c1','C=CC(=O)Nc1cccc(Nc2nc(Nc3ccc(SCC(=O)N4CCOCC4)cc3)ncc2Cl)c1']\n",
    "\n",
    "# Generate pair DataFrame\n",
    "new_pairs = pd.DataFrame({'l1':compound_list_1,'l2':compound_list_2})"
   ]
  },
  {
   "cell_type": "code",
   "execution_count": null,
   "id": "f9b1150b-3ed4-4f17-a4f2-0ea4f9fca266",
   "metadata": {},
   "outputs": [],
   "source": [
    "# Note: Pairs with Tanimoto > 0.4 should not be considered,\n",
    "# as the model was exclusively trained on pairs with Tanimoto < 0.4.\n",
    "\n",
    "new_pairs_pred = prepare_and_evaluate_pairs(new_pairs, model)\n",
    "\n",
    "# Show predictions\n",
    "display(new_pairs_pred)"
   ]
  },
  {
   "cell_type": "code",
   "execution_count": null,
   "id": "4bff0f31-ed40-4207-b888-9ae4c4a8e687",
   "metadata": {},
   "outputs": [],
   "source": []
  }
 ],
 "metadata": {
  "kernelspec": {
   "display_name": "Python [conda env:bsi_env]",
   "language": "python",
   "name": "conda-env-bsi_env-py"
  },
  "language_info": {
   "codemirror_mode": {
    "name": "ipython",
    "version": 3
   },
   "file_extension": ".py",
   "mimetype": "text/x-python",
   "name": "python",
   "nbconvert_exporter": "python",
   "pygments_lexer": "ipython3",
   "version": "3.9.23"
  }
 },
 "nbformat": 4,
 "nbformat_minor": 5
}
