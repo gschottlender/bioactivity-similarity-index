{
 "cells": [
  {
   "cell_type": "code",
   "execution_count": 1,
   "id": "88c80dbc-a5a3-4598-ab45-396bc69e28e1",
   "metadata": {},
   "outputs": [],
   "source": [
    "# Import libraries\n",
    "import pandas as pd\n",
    "import pickle\n",
    "\n",
    "from src.model_training_functions import train_model_on_chunks, fine_tune_model_on_chunks, convert_compound_pairs, NeuralNetworkModel\n",
    "from src.model_training_functions import evaluate_test_data, prepare_and_evaluate_pairs\n",
    "\n",
    "from sklearn.metrics import roc_curve, auc, precision_recall_curve, average_precision_score\n",
    "\n",
    "import torch\n",
    "import os"
   ]
  },
  {
   "cell_type": "code",
   "execution_count": 2,
   "id": "6d84a6dd-4cc8-4e49-bb58-e5ab624e3762",
   "metadata": {},
   "outputs": [],
   "source": [
    "def get_roc_auc(test_data, pred_col, binary_sim_col='y'):\n",
    "    \"\"\"\n",
    "    Compute ROC curves and AUC values for the test set.\n",
    "\n",
    "    Parameters\n",
    "    ----------\n",
    "    test_data : pd.DataFrame\n",
    "        DataFrame containing test results, including ground truth and predicted scores.\n",
    "    pred_col : str\n",
    "        Column name for the model's predicted values.\n",
    "    binary_sim_col : str, optional\n",
    "        Column name for the binary similarity label (default: 'y').\n",
    "\n",
    "    Returns\n",
    "    -------\n",
    "    roc_auc_pred : float\n",
    "        Area under the ROC curve for the model's predictions.\n",
    "    \"\"\"\n",
    "\n",
    "    # Compute ROC curve and AUC for model predictions\n",
    "    fpr_pred, tpr_pred, _ = roc_curve(test_data[binary_sim_col], test_data[pred_col])\n",
    "    roc_auc_pred = auc(fpr_pred, tpr_pred)\n",
    "\n",
    "    return roc_auc_pred\n",
    "\n",
    "def get_pr_auc(test_data, pred_col, binary_sim_col='y'):\n",
    "    \"\"\"\n",
    "    Compute the area under the Precision-Recall curve (PR AUC) for the test set.\n",
    "\n",
    "    Parameters\n",
    "    ----------\n",
    "    test_data : pd.DataFrame\n",
    "        DataFrame containing test results, including ground truth and predicted scores.\n",
    "    pred_col : str\n",
    "        Column name for the model's predicted values.\n",
    "    binary_sim_col : str, optional\n",
    "        Column name for the binary similarity label (default: 'y').\n",
    "\n",
    "    Returns\n",
    "    -------\n",
    "    pr_auc : float\n",
    "        Area under the Precision-Recall curve.\n",
    "    precision : np.ndarray\n",
    "        Precision values for the curve.\n",
    "    recall : np.ndarray\n",
    "        Recall values for the curve.\n",
    "    \"\"\"\n",
    "    # Compute precision-recall curve\n",
    "    precision, recall, _ = precision_recall_curve(test_data[binary_sim_col], test_data[pred_col])\n",
    "    # Compute the area under the curve (AUC)\n",
    "    pr_auc = auc(recall, precision)\n",
    "\n",
    "    return pr_auc"
   ]
  },
  {
   "cell_type": "code",
   "execution_count": 3,
   "id": "bdcf26ec-3866-40af-85ba-a81598b8c32c",
   "metadata": {},
   "outputs": [],
   "source": [
    "# Load Fingerprints database\n",
    "data_dir = 'data'\n",
    "\n",
    "# Convert fingerprints to np.float32 format \n",
    "if not 'comps_fps_np.pkl' in os.listdir(data_dir):    \n",
    "    with open(f'{data_dir}/comps_fps.pkl','rb') as f:\n",
    "        db_ligs = pickle.load(f)\n",
    "    \n",
    "    db_ligs = {l:np.array(db_ligs[l], dtype=np.float32) for l in db_ligs}\n",
    "    with open(f'{data_dir}/comps_fps_np.pkl','wb') as f:\n",
    "        pickle.dump(db_ligs,f)\n",
    "else:\n",
    "    with open(f'{data_dir}/comps_fps_np.pkl','rb') as f:\n",
    "        db_ligs = pickle.load(f)"
   ]
  },
  {
   "cell_type": "markdown",
   "id": "ac4d3cef-d047-43e7-b21d-c7acdc189f34",
   "metadata": {},
   "source": [
    "## Train model"
   ]
  },
  {
   "cell_type": "code",
   "execution_count": 5,
   "id": "ad75b5ec-86b0-4b91-9a53-01bc367461f2",
   "metadata": {},
   "outputs": [
    {
     "name": "stdout",
     "output_type": "stream",
     "text": [
      "\n",
      "=== Epoch 1/5 ===\n",
      " - chunk_11.csv | Train Loss: 0.5264, Val Loss: 0.5174\n",
      " - chunk_4.csv | Train Loss: 0.5148, Val Loss: 0.5073\n",
      " - chunk_30.csv | Train Loss: 0.5103, Val Loss: 0.4993\n",
      " - chunk_15.csv | Train Loss: 0.5057, Val Loss: 0.5003\n",
      " - chunk_21.csv | Train Loss: 0.5058, Val Loss: 0.4955\n",
      " - chunk_22.csv | Train Loss: 0.5021, Val Loss: 0.5044\n",
      " - chunk_8.csv | Train Loss: 0.4983, Val Loss: 0.4868\n",
      " - chunk_13.csv | Train Loss: 0.4955, Val Loss: 0.4903\n",
      " - chunk_16.csv | Train Loss: 0.4964, Val Loss: 0.4841\n",
      " - chunk_24.csv | Train Loss: 0.4880, Val Loss: 0.4771\n",
      " - chunk_6.csv | Train Loss: 0.4880, Val Loss: 0.4743\n",
      " - chunk_26.csv | Train Loss: 0.4837, Val Loss: 0.4787\n",
      " - chunk_1.csv | Train Loss: 0.4816, Val Loss: 0.4701\n",
      " - chunk_12.csv | Train Loss: 0.4785, Val Loss: 0.4708\n",
      " - chunk_25.csv | Train Loss: 0.4759, Val Loss: 0.4622\n",
      " - chunk_9.csv | Train Loss: 0.4715, Val Loss: 0.4613\n",
      " - chunk_3.csv | Train Loss: 0.4715, Val Loss: 0.4627\n",
      " - chunk_7.csv | Train Loss: 0.4698, Val Loss: 0.4659\n",
      " - chunk_10.csv | Train Loss: 0.4675, Val Loss: 0.4670\n",
      " - chunk_29.csv | Train Loss: 0.4658, Val Loss: 0.4584\n",
      " - chunk_27.csv | Train Loss: 0.4628, Val Loss: 0.4532\n",
      " - chunk_19.csv | Train Loss: 0.4626, Val Loss: 0.4539\n",
      " - chunk_17.csv | Train Loss: 0.4601, Val Loss: 0.4462\n",
      " - chunk_5.csv | Train Loss: 0.4602, Val Loss: 0.4491\n",
      " - chunk_20.csv | Train Loss: 0.4549, Val Loss: 0.4491\n",
      " - chunk_18.csv | Train Loss: 0.4561, Val Loss: 0.4457\n",
      " - chunk_23.csv | Train Loss: 0.4552, Val Loss: 0.4487\n",
      " - chunk_28.csv | Train Loss: 0.4552, Val Loss: 0.4464\n",
      " - chunk_2.csv | Train Loss: 0.4524, Val Loss: 0.4393\n",
      " - chunk_14.csv | Train Loss: 0.4520, Val Loss: 0.4447\n",
      "=== End of epoch 1/5 | Avg Training Loss: 0.4789 ===\n",
      "\n",
      "=== Epoch 2/5 ===\n",
      " - chunk_1.csv | Train Loss: 0.4504, Val Loss: 0.4399\n",
      " - chunk_6.csv | Train Loss: 0.4493, Val Loss: 0.4355\n",
      " - chunk_2.csv | Train Loss: 0.4467, Val Loss: 0.4347\n",
      " - chunk_25.csv | Train Loss: 0.4468, Val Loss: 0.4332\n",
      " - chunk_26.csv | Train Loss: 0.4462, Val Loss: 0.4385\n",
      " - chunk_5.csv | Train Loss: 0.4457, Val Loss: 0.4351\n",
      " - chunk_8.csv | Train Loss: 0.4430, Val Loss: 0.4255\n",
      " - chunk_27.csv | Train Loss: 0.4403, Val Loss: 0.4317\n",
      " - chunk_12.csv | Train Loss: 0.4417, Val Loss: 0.4318\n",
      " - chunk_22.csv | Train Loss: 0.4402, Val Loss: 0.4366\n",
      " - chunk_7.csv | Train Loss: 0.4399, Val Loss: 0.4364\n",
      " - chunk_17.csv | Train Loss: 0.4382, Val Loss: 0.4208\n",
      " - chunk_13.csv | Train Loss: 0.4379, Val Loss: 0.4293\n",
      " - chunk_23.csv | Train Loss: 0.4368, Val Loss: 0.4311\n",
      " - chunk_20.csv | Train Loss: 0.4334, Val Loss: 0.4273\n",
      " - chunk_14.csv | Train Loss: 0.4354, Val Loss: 0.4267\n",
      " - chunk_19.csv | Train Loss: 0.4359, Val Loss: 0.4239\n",
      " - chunk_10.csv | Train Loss: 0.4349, Val Loss: 0.4317\n",
      " - chunk_3.csv | Train Loss: 0.4346, Val Loss: 0.4240\n",
      " - chunk_28.csv | Train Loss: 0.4327, Val Loss: 0.4265\n",
      " - chunk_24.csv | Train Loss: 0.4312, Val Loss: 0.4180\n",
      " - chunk_4.csv | Train Loss: 0.4308, Val Loss: 0.4125\n",
      " - chunk_9.csv | Train Loss: 0.4295, Val Loss: 0.4168\n",
      " - chunk_15.csv | Train Loss: 0.4305, Val Loss: 0.4230\n",
      " - chunk_11.csv | Train Loss: 0.4298, Val Loss: 0.4195\n",
      " - chunk_18.csv | Train Loss: 0.4277, Val Loss: 0.4165\n",
      " - chunk_16.csv | Train Loss: 0.4310, Val Loss: 0.4171\n",
      " - chunk_21.csv | Train Loss: 0.4282, Val Loss: 0.4094\n",
      " - chunk_30.csv | Train Loss: 0.4279, Val Loss: 0.4127\n",
      " - chunk_29.csv | Train Loss: 0.4276, Val Loss: 0.4205\n",
      "=== End of epoch 2/5 | Avg Training Loss: 0.4368 ===\n",
      "\n",
      "=== Epoch 3/5 ===\n",
      " - chunk_23.csv | Train Loss: 0.4233, Val Loss: 0.4172\n",
      " - chunk_28.csv | Train Loss: 0.4229, Val Loss: 0.4157\n",
      " - chunk_5.csv | Train Loss: 0.4239, Val Loss: 0.4093\n",
      " - chunk_22.csv | Train Loss: 0.4218, Val Loss: 0.4137\n",
      " - chunk_2.csv | Train Loss: 0.4222, Val Loss: 0.4077\n",
      " - chunk_26.csv | Train Loss: 0.4219, Val Loss: 0.4106\n",
      " - chunk_14.csv | Train Loss: 0.4200, Val Loss: 0.4108\n",
      " - chunk_19.csv | Train Loss: 0.4204, Val Loss: 0.4082\n",
      " - chunk_9.csv | Train Loss: 0.4175, Val Loss: 0.4050\n",
      " - chunk_30.csv | Train Loss: 0.4195, Val Loss: 0.4035\n",
      " - chunk_15.csv | Train Loss: 0.4181, Val Loss: 0.4094\n",
      " - chunk_12.csv | Train Loss: 0.4198, Val Loss: 0.4030\n",
      " - chunk_1.csv | Train Loss: 0.4185, Val Loss: 0.4059\n",
      " - chunk_8.csv | Train Loss: 0.4170, Val Loss: 0.3945\n",
      " - chunk_7.csv | Train Loss: 0.4177, Val Loss: 0.4113\n",
      " - chunk_20.csv | Train Loss: 0.4126, Val Loss: 0.4030\n",
      " - chunk_13.csv | Train Loss: 0.4149, Val Loss: 0.4046\n",
      " - chunk_29.csv | Train Loss: 0.4154, Val Loss: 0.4082\n",
      " - chunk_17.csv | Train Loss: 0.4134, Val Loss: 0.3937\n",
      " - chunk_27.csv | Train Loss: 0.4134, Val Loss: 0.3993\n",
      " - chunk_10.csv | Train Loss: 0.4135, Val Loss: 0.4072\n",
      " - chunk_16.csv | Train Loss: 0.4157, Val Loss: 0.3987\n",
      " - chunk_25.csv | Train Loss: 0.4133, Val Loss: 0.3954\n",
      " - chunk_6.csv | Train Loss: 0.4134, Val Loss: 0.3942\n",
      " - chunk_4.csv | Train Loss: 0.4114, Val Loss: 0.3917\n",
      " - chunk_18.csv | Train Loss: 0.4098, Val Loss: 0.3960\n",
      " - chunk_21.csv | Train Loss: 0.4101, Val Loss: 0.3905\n",
      " - chunk_24.csv | Train Loss: 0.4087, Val Loss: 0.3925\n",
      " - chunk_3.csv | Train Loss: 0.4097, Val Loss: 0.3940\n",
      " - chunk_11.csv | Train Loss: 0.4092, Val Loss: 0.3970\n",
      "=== End of epoch 3/5 | Avg Training Loss: 0.4163 ===\n",
      "\n",
      "=== Epoch 4/5 ===\n",
      " - chunk_20.csv | Train Loss: 0.4037, Val Loss: 0.3947\n",
      " - chunk_14.csv | Train Loss: 0.4057, Val Loss: 0.3932\n",
      " - chunk_8.csv | Train Loss: 0.4055, Val Loss: 0.3838\n",
      " - chunk_11.csv | Train Loss: 0.4046, Val Loss: 0.3942\n",
      " - chunk_12.csv | Train Loss: 0.4053, Val Loss: 0.3862\n",
      " - chunk_6.csv | Train Loss: 0.4047, Val Loss: 0.3864\n",
      " - chunk_15.csv | Train Loss: 0.4036, Val Loss: 0.3940\n",
      " - chunk_30.csv | Train Loss: 0.4044, Val Loss: 0.3857\n",
      " - chunk_5.csv | Train Loss: 0.4045, Val Loss: 0.3852\n",
      " - chunk_13.csv | Train Loss: 0.4026, Val Loss: 0.3919\n",
      " - chunk_3.csv | Train Loss: 0.4026, Val Loss: 0.3863\n",
      " - chunk_9.csv | Train Loss: 0.4000, Val Loss: 0.3859\n",
      " - chunk_27.csv | Train Loss: 0.3989, Val Loss: 0.3861\n",
      " - chunk_29.csv | Train Loss: 0.4011, Val Loss: 0.3927\n",
      " - chunk_28.csv | Train Loss: 0.4019, Val Loss: 0.3905\n",
      " - chunk_18.csv | Train Loss: 0.3994, Val Loss: 0.3831\n",
      " - chunk_23.csv | Train Loss: 0.4004, Val Loss: 0.3886\n",
      " - chunk_22.csv | Train Loss: 0.3998, Val Loss: 0.3878\n",
      " - chunk_19.csv | Train Loss: 0.4010, Val Loss: 0.3858\n",
      " - chunk_2.csv | Train Loss: 0.3987, Val Loss: 0.3799\n",
      " - chunk_10.csv | Train Loss: 0.3988, Val Loss: 0.3894\n",
      " - chunk_1.csv | Train Loss: 0.4001, Val Loss: 0.3836\n",
      " - chunk_17.csv | Train Loss: 0.3961, Val Loss: 0.3743\n",
      " - chunk_25.csv | Train Loss: 0.3981, Val Loss: 0.3772\n",
      " - chunk_24.csv | Train Loss: 0.3952, Val Loss: 0.3754\n",
      " - chunk_7.csv | Train Loss: 0.3979, Val Loss: 0.3879\n",
      " - chunk_16.csv | Train Loss: 0.3984, Val Loss: 0.3796\n",
      " - chunk_4.csv | Train Loss: 0.3941, Val Loss: 0.3755\n",
      " - chunk_26.csv | Train Loss: 0.3963, Val Loss: 0.3768\n",
      " - chunk_21.csv | Train Loss: 0.3949, Val Loss: 0.3724\n",
      "=== End of epoch 4/5 | Avg Training Loss: 0.4006 ===\n",
      "\n",
      "=== Epoch 5/5 ===\n",
      " - chunk_22.csv | Train Loss: 0.3924, Val Loss: 0.3802\n",
      " - chunk_8.csv | Train Loss: 0.3915, Val Loss: 0.3679\n",
      " - chunk_21.csv | Train Loss: 0.3907, Val Loss: 0.3699\n",
      " - chunk_1.csv | Train Loss: 0.3927, Val Loss: 0.3766\n",
      " - chunk_25.csv | Train Loss: 0.3905, Val Loss: 0.3710\n",
      " - chunk_19.csv | Train Loss: 0.3921, Val Loss: 0.3773\n",
      " - chunk_9.csv | Train Loss: 0.3894, Val Loss: 0.3734\n",
      " - chunk_15.csv | Train Loss: 0.3904, Val Loss: 0.3792\n",
      " - chunk_23.csv | Train Loss: 0.3905, Val Loss: 0.3779\n",
      " - chunk_12.csv | Train Loss: 0.3909, Val Loss: 0.3683\n",
      " - chunk_11.csv | Train Loss: 0.3897, Val Loss: 0.3750\n",
      " - chunk_17.csv | Train Loss: 0.3875, Val Loss: 0.3647\n",
      " - chunk_2.csv | Train Loss: 0.3880, Val Loss: 0.3705\n",
      " - chunk_10.csv | Train Loss: 0.3889, Val Loss: 0.3776\n",
      " - chunk_29.csv | Train Loss: 0.3889, Val Loss: 0.3780\n",
      " - chunk_4.csv | Train Loss: 0.3861, Val Loss: 0.3661\n",
      " - chunk_13.csv | Train Loss: 0.3876, Val Loss: 0.3729\n",
      " - chunk_28.csv | Train Loss: 0.3881, Val Loss: 0.3749\n",
      " - chunk_5.csv | Train Loss: 0.3887, Val Loss: 0.3650\n",
      " - chunk_27.csv | Train Loss: 0.3852, Val Loss: 0.3701\n",
      " - chunk_26.csv | Train Loss: 0.3866, Val Loss: 0.3655\n",
      " - chunk_24.csv | Train Loss: 0.3852, Val Loss: 0.3626\n",
      " - chunk_18.csv | Train Loss: 0.3857, Val Loss: 0.3671\n",
      " - chunk_14.csv | Train Loss: 0.3851, Val Loss: 0.3665\n",
      " - chunk_3.csv | Train Loss: 0.3854, Val Loss: 0.3667\n",
      " - chunk_20.csv | Train Loss: 0.3824, Val Loss: 0.3693\n",
      " - chunk_16.csv | Train Loss: 0.3874, Val Loss: 0.3658\n",
      " - chunk_7.csv | Train Loss: 0.3853, Val Loss: 0.3730\n",
      " - chunk_6.csv | Train Loss: 0.3852, Val Loss: 0.3637\n",
      " - chunk_30.csv | Train Loss: 0.3850, Val Loss: 0.3620\n",
      "=== End of epoch 5/5 | Avg Training Loss: 0.3881 ===\n"
     ]
    }
   ],
   "source": [
    "train_dir = 'train_datasets'\n",
    "model = train_model_on_chunks(\n",
    "        train_dir,\n",
    "        db_ligs,                # o cualquier recurso que necesites para conv_suma\n",
    "        hidden_layers=[512, 256, 128, 64], \n",
    "        dropout_prob=0.3, \n",
    "        n_epochs=5)\n",
    "\n",
    "torch.save(model.state_dict(), f'model.pth')"
   ]
  },
  {
   "cell_type": "markdown",
   "id": "a13ccff6-86df-426a-bcb1-41451537f83d",
   "metadata": {},
   "source": [
    "## Evaluation on test datasets"
   ]
  },
  {
   "cell_type": "code",
   "execution_count": 4,
   "id": "bb5c7d38-dbb9-45c6-ad5a-3765f0e0afef",
   "metadata": {},
   "outputs": [],
   "source": [
    "def evaluate_test_data(model,test_data,db_ligs):\n",
    "    model.eval()\n",
    "    X_test,y_test = convert_compound_pairs(test_data,db_ligs)\n",
    "    X_test = torch.tensor(X_test, dtype=torch.float32)\n",
    "    device = next(model.parameters()).device\n",
    "    X_test = X_test.to(device)\n",
    "    with torch.no_grad():\n",
    "        preds = model(X_test).flatten().cpu().numpy()\n",
    "    return preds"
   ]
  },
  {
   "cell_type": "code",
   "execution_count": 5,
   "id": "0cd4ca0b-1004-4c04-b85f-0b730ed52d8b",
   "metadata": {},
   "outputs": [
    {
     "name": "stderr",
     "output_type": "stream",
     "text": [
      "/tmp/ipykernel_50848/2442217879.py:4: FutureWarning: You are using `torch.load` with `weights_only=False` (the current default value), which uses the default pickle module implicitly. It is possible to construct malicious pickle data which will execute arbitrary code during unpickling (See https://github.com/pytorch/pytorch/blob/main/SECURITY.md#untrusted-models for more details). In a future release, the default value for `weights_only` will be flipped to `True`. This limits the functions that could be executed during unpickling. Arbitrary objects will no longer be allowed to be loaded via this mode unless they are explicitly allowlisted by the user via `torch.serialization.add_safe_globals`. We recommend you start setting `weights_only=True` for any use case where you don't have full control of the loaded file. Please open an issue on GitHub for any issues related to this experimental feature.\n",
      "  model.load_state_dict(torch.load('model.pth'))\n"
     ]
    },
    {
     "data": {
      "text/plain": [
       "<All keys matched successfully>"
      ]
     },
     "execution_count": 5,
     "metadata": {},
     "output_type": "execute_result"
    }
   ],
   "source": [
    "# Load model (same parameters as the trained model)\n",
    "input_size = len(next(iter(db_ligs.values())))\n",
    "model = NeuralNetworkModel(input_size=input_size,hidden_layers=[512,256,128,64],output_size=1,dropout_prob=0.3)\n",
    "model.load_state_dict(torch.load('model.pth'))"
   ]
  },
  {
   "cell_type": "code",
   "execution_count": 6,
   "id": "72975531-118a-474b-8c39-8c8a9e65a11f",
   "metadata": {},
   "outputs": [],
   "source": [
    "# Load test data\n",
    "test_data = pd.read_csv('./test_datasets/test_pairs.csv')"
   ]
  },
  {
   "cell_type": "code",
   "execution_count": 7,
   "id": "337191b4-02b1-48d4-b0ee-8f40e8f2c707",
   "metadata": {},
   "outputs": [],
   "source": [
    "# Make predictions\n",
    "preds = evaluate_test_data(model,test_data,db_ligs)\n",
    "test_data['pred'] = preds"
   ]
  },
  {
   "cell_type": "code",
   "execution_count": 8,
   "id": "f6340b66-f91e-4766-87fb-455bad2a4c2d",
   "metadata": {},
   "outputs": [
    {
     "data": {
      "text/html": [
       "<div>\n",
       "<style scoped>\n",
       "    .dataframe tbody tr th:only-of-type {\n",
       "        vertical-align: middle;\n",
       "    }\n",
       "\n",
       "    .dataframe tbody tr th {\n",
       "        vertical-align: top;\n",
       "    }\n",
       "\n",
       "    .dataframe thead th {\n",
       "        text-align: right;\n",
       "    }\n",
       "</style>\n",
       "<table border=\"1\" class=\"dataframe\">\n",
       "  <thead>\n",
       "    <tr style=\"text-align: right;\">\n",
       "      <th></th>\n",
       "      <th>prot</th>\n",
       "      <th>ROC AUC</th>\n",
       "      <th>PR AUC</th>\n",
       "    </tr>\n",
       "  </thead>\n",
       "  <tbody>\n",
       "    <tr>\n",
       "      <th>0</th>\n",
       "      <td>Q9P0X4</td>\n",
       "      <td>0.737090</td>\n",
       "      <td>0.545869</td>\n",
       "    </tr>\n",
       "    <tr>\n",
       "      <th>1</th>\n",
       "      <td>Q9UKV0</td>\n",
       "      <td>0.818359</td>\n",
       "      <td>0.510388</td>\n",
       "    </tr>\n",
       "  </tbody>\n",
       "</table>\n",
       "</div>"
      ],
      "text/plain": [
       "     prot   ROC AUC    PR AUC\n",
       "0  Q9P0X4  0.737090  0.545869\n",
       "1  Q9UKV0  0.818359  0.510388"
      ]
     },
     "metadata": {},
     "output_type": "display_data"
    }
   ],
   "source": [
    "# Compute ROC AUC and PR AUC per protein and collect results in a DataFrame\n",
    "\n",
    "results = [\n",
    "    {\n",
    "        \"prot\": prot,\n",
    "        \"ROC AUC\": get_roc_auc(data_prot := test_data[test_data[\"prot\"] == prot], \"pred\"),\n",
    "        \"PR AUC\": get_pr_auc(data_prot, \"pred\")\n",
    "    }\n",
    "    for prot in test_data[\"prot\"].unique()\n",
    "]\n",
    "\n",
    "test_results = pd.DataFrame(results)\n",
    "\n",
    "# Show test results\n",
    "display(test_results)"
   ]
  },
  {
   "cell_type": "markdown",
   "id": "0190b6dc-adb2-442f-b69e-fd979b7a59fa",
   "metadata": {},
   "source": [
    "## Example of fine tuning"
   ]
  },
  {
   "cell_type": "code",
   "execution_count": 9,
   "id": "d546a9c6-86ee-4a28-8fbc-e83611a3371e",
   "metadata": {},
   "outputs": [
    {
     "name": "stderr",
     "output_type": "stream",
     "text": [
      "/tmp/ipykernel_50848/473065733.py:4: FutureWarning: You are using `torch.load` with `weights_only=False` (the current default value), which uses the default pickle module implicitly. It is possible to construct malicious pickle data which will execute arbitrary code during unpickling (See https://github.com/pytorch/pytorch/blob/main/SECURITY.md#untrusted-models for more details). In a future release, the default value for `weights_only` will be flipped to `True`. This limits the functions that could be executed during unpickling. Arbitrary objects will no longer be allowed to be loaded via this mode unless they are explicitly allowlisted by the user via `torch.serialization.add_safe_globals`. We recommend you start setting `weights_only=True` for any use case where you don't have full control of the loaded file. Please open an issue on GitHub for any issues related to this experimental feature.\n",
      "  model.load_state_dict(torch.load('model.pth'))\n"
     ]
    },
    {
     "data": {
      "text/plain": [
       "<All keys matched successfully>"
      ]
     },
     "execution_count": 9,
     "metadata": {},
     "output_type": "execute_result"
    }
   ],
   "source": [
    "# Load model\n",
    "input_size = len(next(iter(db_ligs.values())))\n",
    "model = NeuralNetworkModel(input_size=input_size,hidden_layers=[512,256,128,64],output_size=1,dropout_prob=0.3)\n",
    "model.load_state_dict(torch.load('model.pth'))"
   ]
  },
  {
   "cell_type": "code",
   "execution_count": 10,
   "id": "e16a88a9-1958-4d01-9165-5b61cf23d24e",
   "metadata": {},
   "outputs": [
    {
     "name": "stdout",
     "output_type": "stream",
     "text": [
      "\n",
      "=== Fine‑tuning Epoch 1/5 ===\n",
      " - test_pairs.csv | Train Loss: 0.4433 | Val Loss: 0.3813\n",
      "=== End of Epoch 1/5 | Avg Train Loss: 0.4433 ===\n",
      "\n",
      "=== Fine‑tuning Epoch 2/5 ===\n",
      " - test_pairs.csv | Train Loss: 0.3994 | Val Loss: 0.3515\n",
      "=== End of Epoch 2/5 | Avg Train Loss: 0.3994 ===\n",
      "\n",
      "=== Fine‑tuning Epoch 3/5 ===\n",
      " - test_pairs.csv | Train Loss: 0.3649 | Val Loss: 0.3245\n",
      "=== End of Epoch 3/5 | Avg Train Loss: 0.3649 ===\n",
      "\n",
      "=== Fine‑tuning Epoch 4/5 ===\n",
      " - test_pairs.csv | Train Loss: 0.3370 | Val Loss: 0.2995\n",
      "=== End of Epoch 4/5 | Avg Train Loss: 0.3370 ===\n",
      "\n",
      "=== Fine‑tuning Epoch 5/5 ===\n",
      " - test_pairs.csv | Train Loss: 0.3097 | Val Loss: 0.2759\n",
      "=== End of Epoch 5/5 | Avg Train Loss: 0.3097 ===\n"
     ]
    }
   ],
   "source": [
    "# Fine tune model (in this example, using the test data)\n",
    "ft_train_dir = './test_datasets/'\n",
    "\n",
    "ft_model = fine_tune_model_on_chunks(\n",
    "    ft_train_dir,\n",
    "    db_ligs,                     # fingerprint dictionary used by convert_compound_pairs\n",
    "    model,               # path to .pt file or an nn.Module instance\n",
    "    n_epochs=5\n",
    ")\n",
    "\n",
    "# To save the model\n",
    "torch.save(ft_model.state_dict(), f'ft_model.pth')"
   ]
  },
  {
   "cell_type": "markdown",
   "id": "651f5821-4109-496e-8649-24bd0d4e7029",
   "metadata": {},
   "source": [
    "## Evaluation on new data"
   ]
  },
  {
   "cell_type": "code",
   "execution_count": 11,
   "id": "b1b92867-d790-467a-be9d-817644e4b9a0",
   "metadata": {},
   "outputs": [],
   "source": [
    "# Load pairs of compounds (in this example, two lists of SMILES, one for each compound from each pair)\n",
    "compound_list_1 = ['CCCO','O=C(c1ccc(Oc2ccccc2)cc1)N1CCN(c2ncccn2)CC1','CC(C)Nc1ncnc(SC#N)c1[N+](=O)[O-]']\n",
    "compound_list_2 = ['NCCCN(Cc1nn2ccc(Cl)c2c(=O)n1Cc1ccccc1)C(=O)c1ccc(Cl)cc1','CCCCOc1ccccc1C[C@H]1COC(=O)[C@@H]1Cc1ccc(Cl)c(Cl)c1','C=CC(=O)Nc1cccc(Nc2nc(Nc3ccc(SCC(=O)N4CCOCC4)cc3)ncc2Cl)c1']\n",
    "\n",
    "# Generate pair DataFrame\n",
    "new_pairs = pd.DataFrame({'l1':compound_list_1,'l2':compound_list_2})"
   ]
  },
  {
   "cell_type": "code",
   "execution_count": 13,
   "id": "f9b1150b-3ed4-4f17-a4f2-0ea4f9fca266",
   "metadata": {},
   "outputs": [
    {
     "name": "stderr",
     "output_type": "stream",
     "text": [
      "[13:46:35] DEPRECATION WARNING: please use MorganGenerator\n",
      "[13:46:35] DEPRECATION WARNING: please use MorganGenerator\n",
      "[13:46:35] DEPRECATION WARNING: please use MorganGenerator\n",
      "[13:46:35] DEPRECATION WARNING: please use MorganGenerator\n",
      "[13:46:35] DEPRECATION WARNING: please use MorganGenerator\n",
      "[13:46:35] DEPRECATION WARNING: please use MorganGenerator\n"
     ]
    },
    {
     "data": {
      "text/html": [
       "<div>\n",
       "<style scoped>\n",
       "    .dataframe tbody tr th:only-of-type {\n",
       "        vertical-align: middle;\n",
       "    }\n",
       "\n",
       "    .dataframe tbody tr th {\n",
       "        vertical-align: top;\n",
       "    }\n",
       "\n",
       "    .dataframe thead th {\n",
       "        text-align: right;\n",
       "    }\n",
       "</style>\n",
       "<table border=\"1\" class=\"dataframe\">\n",
       "  <thead>\n",
       "    <tr style=\"text-align: right;\">\n",
       "      <th></th>\n",
       "      <th>l1</th>\n",
       "      <th>l2</th>\n",
       "      <th>Tanimoto</th>\n",
       "      <th>pred</th>\n",
       "    </tr>\n",
       "  </thead>\n",
       "  <tbody>\n",
       "    <tr>\n",
       "      <th>0</th>\n",
       "      <td>CCCO</td>\n",
       "      <td>NCCCN(Cc1nn2ccc(Cl)c2c(=O)n1Cc1ccccc1)C(=O)c1c...</td>\n",
       "      <td>0.035088</td>\n",
       "      <td>0.124464</td>\n",
       "    </tr>\n",
       "    <tr>\n",
       "      <th>1</th>\n",
       "      <td>O=C(c1ccc(Oc2ccccc2)cc1)N1CCN(c2ncccn2)CC1</td>\n",
       "      <td>CCCCOc1ccccc1C[C@H]1COC(=O)[C@@H]1Cc1ccc(Cl)c(...</td>\n",
       "      <td>0.169014</td>\n",
       "      <td>0.017712</td>\n",
       "    </tr>\n",
       "    <tr>\n",
       "      <th>2</th>\n",
       "      <td>CC(C)Nc1ncnc(SC#N)c1[N+](=O)[O-]</td>\n",
       "      <td>C=CC(=O)Nc1cccc(Nc2nc(Nc3ccc(SCC(=O)N4CCOCC4)c...</td>\n",
       "      <td>0.179487</td>\n",
       "      <td>0.005534</td>\n",
       "    </tr>\n",
       "  </tbody>\n",
       "</table>\n",
       "</div>"
      ],
      "text/plain": [
       "                                           l1  \\\n",
       "0                                        CCCO   \n",
       "1  O=C(c1ccc(Oc2ccccc2)cc1)N1CCN(c2ncccn2)CC1   \n",
       "2            CC(C)Nc1ncnc(SC#N)c1[N+](=O)[O-]   \n",
       "\n",
       "                                                  l2  Tanimoto      pred  \n",
       "0  NCCCN(Cc1nn2ccc(Cl)c2c(=O)n1Cc1ccccc1)C(=O)c1c...  0.035088  0.124464  \n",
       "1  CCCCOc1ccccc1C[C@H]1COC(=O)[C@@H]1Cc1ccc(Cl)c(...  0.169014  0.017712  \n",
       "2  C=CC(=O)Nc1cccc(Nc2nc(Nc3ccc(SCC(=O)N4CCOCC4)c...  0.179487  0.005534  "
      ]
     },
     "metadata": {},
     "output_type": "display_data"
    }
   ],
   "source": [
    "# Note: Pairs with Tanimoto > 0.4 should not be considered,\n",
    "# as the model was exclusively trained on pairs with Tanimoto < 0.4.\n",
    "\n",
    "new_pairs_pred = prepare_and_evaluate_pairs(new_pairs, model)\n",
    "\n",
    "# Show predictions\n",
    "display(new_pairs_pred)"
   ]
  },
  {
   "cell_type": "code",
   "execution_count": null,
   "id": "4bff0f31-ed40-4207-b888-9ae4c4a8e687",
   "metadata": {},
   "outputs": [],
   "source": []
  }
 ],
 "metadata": {
  "kernelspec": {
   "display_name": "ml",
   "language": "python",
   "name": "ml"
  },
  "language_info": {
   "codemirror_mode": {
    "name": "ipython",
    "version": 3
   },
   "file_extension": ".py",
   "mimetype": "text/x-python",
   "name": "python",
   "nbconvert_exporter": "python",
   "pygments_lexer": "ipython3",
   "version": "3.10.13"
  }
 },
 "nbformat": 4,
 "nbformat_minor": 5
}
